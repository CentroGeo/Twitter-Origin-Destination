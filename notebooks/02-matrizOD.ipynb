{
 "cells": [
  {
   "cell_type": "markdown",
   "metadata": {},
   "source": [
    "# Matriz Origen Destino\n",
    "\n",
    "En el notebook anterior calculamos las trayectorias de los usuarios de Twitter. En este notebook vamos a obtener la matriz Origen-Destino a partir de dichas trayectorias."
   ]
  },
  {
   "cell_type": "code",
   "execution_count": 1,
   "metadata": {},
   "outputs": [],
   "source": [
    "%load_ext autoreload\n",
    "%autoreload 2\n",
    "import geopandas as gpd\n",
    "from shapely.geometry import LineString, Point\n",
    "from datetime import datetime, timedelta\n",
    "import pandas as pd\n",
    "import matplotlib.pyplot as plt\n",
    "import pandas as pd\n",
    "import numpy as np\n",
    "from IPython.display import display, HTML\n",
    "import contextily as ctx"
   ]
  },
  {
   "cell_type": "markdown",
   "metadata": {},
   "source": [
    "Leemos las trayectorias que calculamos"
   ]
  },
  {
   "cell_type": "code",
   "execution_count": 3,
   "metadata": {},
   "outputs": [
    {
     "data": {
      "text/html": "<div>\n<style scoped>\n    .dataframe tbody tr th:only-of-type {\n        vertical-align: middle;\n    }\n\n    .dataframe tbody tr th {\n        vertical-align: top;\n    }\n\n    .dataframe thead th {\n        text-align: right;\n    }\n</style>\n<table border=\"1\" class=\"dataframe\">\n  <thead>\n    <tr style=\"text-align: right;\">\n      <th></th>\n      <th></th>\n      <th></th>\n      <th>separation</th>\n      <th>geometry</th>\n    </tr>\n    <tr>\n      <th>dia</th>\n      <th>intervalo</th>\n      <th>Usuario</th>\n      <th></th>\n      <th></th>\n    </tr>\n  </thead>\n  <tbody>\n    <tr>\n      <th rowspan=\"5\" valign=\"top\">2018-01-01 00:00:00+00:00</th>\n      <th rowspan=\"5\" valign=\"top\">2017-12-31 22:00:00+00:00</th>\n      <th>2Rene1982</th>\n      <td>4776.501901</td>\n      <td>LINESTRING (486006.893 2148777.685, 490781.385...</td>\n    </tr>\n    <tr>\n      <th>AdryLATREVI</th>\n      <td>9317.335796</td>\n      <td>LINESTRING (482869.514 2147672.967, 486107.871...</td>\n    </tr>\n    <tr>\n      <th>BoogeymanMX</th>\n      <td>4253.572117</td>\n      <td>LINESTRING (490531.670 2170098.393, 486303.994...</td>\n    </tr>\n    <tr>\n      <th>Calcifer_May</th>\n      <td>9841.699738</td>\n      <td>LINESTRING (486006.893 2148777.685, 486107.871...</td>\n    </tr>\n    <tr>\n      <th>ChalArauz</th>\n      <td>2779.291581</td>\n      <td>LINESTRING (487840.819 2158221.322, 486714.205...</td>\n    </tr>\n  </tbody>\n</table>\n</div>",
      "text/plain": "                                                                   separation  \\\ndia                       intervalo                 Usuario                     \n2018-01-01 00:00:00+00:00 2017-12-31 22:00:00+00:00 2Rene1982     4776.501901   \n                                                    AdryLATREVI   9317.335796   \n                                                    BoogeymanMX   4253.572117   \n                                                    Calcifer_May  9841.699738   \n                                                    ChalArauz     2779.291581   \n\n                                                                                                           geometry  \ndia                       intervalo                 Usuario                                                          \n2018-01-01 00:00:00+00:00 2017-12-31 22:00:00+00:00 2Rene1982     LINESTRING (486006.893 2148777.685, 490781.385...  \n                                                    AdryLATREVI   LINESTRING (482869.514 2147672.967, 486107.871...  \n                                                    BoogeymanMX   LINESTRING (490531.670 2170098.393, 486303.994...  \n                                                    Calcifer_May  LINESTRING (486006.893 2148777.685, 486107.871...  \n                                                    ChalArauz     LINESTRING (487840.819 2158221.322, 486714.205...  "
     },
     "execution_count": 3,
     "metadata": {},
     "output_type": "execute_result"
    }
   ],
   "source": [
    "trayectorias = gpd.read_file(\"../output/trayectorias_2018.gpkg\")\n",
    "trayectorias['dia'] = pd.to_datetime(trayectorias['dia'], format='%Y-%m-%dT%H:%M:%S')\n",
    "trayectorias['intervalo'] = pd.to_datetime(trayectorias['intervalo'], format='%Y-%m-%dT%H:%M:%S')\n",
    "trayectorias.set_index(['dia', 'intervalo', 'Usuario'], inplace=True)\n",
    "trayectorias.head()"
   ]
  },
  {
   "cell_type": "markdown",
   "metadata": {},
   "source": [
    "Y las zonas de análisis"
   ]
  },
  {
   "cell_type": "code",
   "execution_count": 4,
   "metadata": {},
   "outputs": [
    {
     "data": {
      "text/html": "<div>\n<style scoped>\n    .dataframe tbody tr th:only-of-type {\n        vertical-align: middle;\n    }\n\n    .dataframe tbody tr th {\n        vertical-align: top;\n    }\n\n    .dataframe thead th {\n        text-align: right;\n    }\n</style>\n<table border=\"1\" class=\"dataframe\">\n  <thead>\n    <tr style=\"text-align: right;\">\n      <th></th>\n      <th>Distrito</th>\n      <th>Descripcio</th>\n      <th>geometry</th>\n    </tr>\n  </thead>\n  <tbody>\n    <tr>\n      <th>0</th>\n      <td>001</td>\n      <td>Centro HistÃ³rico</td>\n      <td>POLYGON ((485707.699 2149605.446, 485792.518 2...</td>\n    </tr>\n    <tr>\n      <th>1</th>\n      <td>002</td>\n      <td>Buenavista-Reforma</td>\n      <td>POLYGON ((485002.129 2152136.266, 485069.252 2...</td>\n    </tr>\n    <tr>\n      <th>2</th>\n      <td>003</td>\n      <td>Tlatelolco</td>\n      <td>POLYGON ((486206.963 2152150.606, 486612.741 2...</td>\n    </tr>\n    <tr>\n      <th>3</th>\n      <td>004</td>\n      <td>Morelos</td>\n      <td>POLYGON ((488510.758 2150946.712, 488607.167 2...</td>\n    </tr>\n    <tr>\n      <th>4</th>\n      <td>005</td>\n      <td>Moctezuma, Terminal de Autobuses de Oriente (T...</td>\n      <td>POLYGON ((489445.177 2150604.177, 489535.192 2...</td>\n    </tr>\n  </tbody>\n</table>\n</div>",
      "text/plain": "  Distrito                                         Descripcio  \\\n0      001                                  Centro HistÃ³rico   \n1      002                                 Buenavista-Reforma   \n2      003                                         Tlatelolco   \n3      004                                            Morelos   \n4      005  Moctezuma, Terminal de Autobuses de Oriente (T...   \n\n                                            geometry  \n0  POLYGON ((485707.699 2149605.446, 485792.518 2...  \n1  POLYGON ((485002.129 2152136.266, 485069.252 2...  \n2  POLYGON ((486206.963 2152150.606, 486612.741 2...  \n3  POLYGON ((488510.758 2150946.712, 488607.167 2...  \n4  POLYGON ((489445.177 2150604.177, 489535.192 2...  "
     },
     "execution_count": 4,
     "metadata": {},
     "output_type": "execute_result"
    }
   ],
   "source": [
    "zonas = gpd.read_file(\"../data/shapes/DistritosEODHogaresZMVM2017.shp\")\n",
    "zonas.head()"
   ]
  },
  {
   "cell_type": "markdown",
   "metadata": {},
   "source": [
    "## Un dia y un intervalo\n",
    "\n",
    "Primero vamos a calcular la matriz para un sólo dia y un intervalo. "
   ]
  },
  {
   "cell_type": "code",
   "execution_count": 6,
   "metadata": {},
   "outputs": [
    {
     "data": {
      "text/html": "<div>\n<style scoped>\n    .dataframe tbody tr th:only-of-type {\n        vertical-align: middle;\n    }\n\n    .dataframe tbody tr th {\n        vertical-align: top;\n    }\n\n    .dataframe thead th {\n        text-align: right;\n    }\n</style>\n<table border=\"1\" class=\"dataframe\">\n  <thead>\n    <tr style=\"text-align: right;\">\n      <th></th>\n      <th></th>\n      <th></th>\n      <th>separation</th>\n      <th>geometry</th>\n    </tr>\n    <tr>\n      <th>dia</th>\n      <th>intervalo</th>\n      <th>Usuario</th>\n      <th></th>\n      <th></th>\n    </tr>\n  </thead>\n  <tbody>\n    <tr>\n      <th rowspan=\"5\" valign=\"top\">2018-05-24 00:00:00+00:00</th>\n      <th rowspan=\"5\" valign=\"top\">2018-05-24 06:00:00+00:00</th>\n      <th>CavaMildred</th>\n      <td>5858.563304</td>\n      <td>LINESTRING (483997.931 2137169.995, 483043.193...</td>\n    </tr>\n    <tr>\n      <th>Danny_Figueroa</th>\n      <td>6112.225570</td>\n      <td>LINESTRING (477796.301 2148413.500, 483900.425...</td>\n    </tr>\n    <tr>\n      <th>ErnestoRUrbina</th>\n      <td>10487.216134</td>\n      <td>LINESTRING (483970.238 2136319.381, 483970.238...</td>\n    </tr>\n    <tr>\n      <th>JonhyLoConoci</th>\n      <td>12547.768991</td>\n      <td>LINESTRING (477796.301 2148413.500, 490781.385...</td>\n    </tr>\n    <tr>\n      <th>NicioLaura</th>\n      <td>15782.687224</td>\n      <td>LINESTRING (477796.301 2148413.500, 467899.291...</td>\n    </tr>\n  </tbody>\n</table>\n</div>",
      "text/plain": "                                                                      separation  \\\ndia                       intervalo                 Usuario                        \n2018-05-24 00:00:00+00:00 2018-05-24 06:00:00+00:00 CavaMildred      5858.563304   \n                                                    Danny_Figueroa   6112.225570   \n                                                    ErnestoRUrbina  10487.216134   \n                                                    JonhyLoConoci   12547.768991   \n                                                    NicioLaura      15782.687224   \n\n                                                                                                             geometry  \ndia                       intervalo                 Usuario                                                            \n2018-05-24 00:00:00+00:00 2018-05-24 06:00:00+00:00 CavaMildred     LINESTRING (483997.931 2137169.995, 483043.193...  \n                                                    Danny_Figueroa  LINESTRING (477796.301 2148413.500, 483900.425...  \n                                                    ErnestoRUrbina  LINESTRING (483970.238 2136319.381, 483970.238...  \n                                                    JonhyLoConoci   LINESTRING (477796.301 2148413.500, 490781.385...  \n                                                    NicioLaura      LINESTRING (477796.301 2148413.500, 467899.291...  "
     },
     "execution_count": 6,
     "metadata": {},
     "output_type": "execute_result"
    }
   ],
   "source": [
    "prueba = trayectorias.loc['2018-05-24 00:00:00','2018-05-24 06:00:00+00:00',:].copy()\n",
    "prueba.head()"
   ]
  },
  {
   "cell_type": "markdown",
   "metadata": {},
   "source": [
    "Para cada usuario tenemos que encontrar los puntos de origen y destino de las trayectorias, para eso podemos crear dos dataframes diferentes, una para los orígenes y otra para los destinos."
   ]
  },
  {
   "cell_type": "code",
   "execution_count": 8,
   "metadata": {},
   "outputs": [],
   "source": [
    "origen = prueba['geometry'].apply(lambda l: Point(l.coords[0])).reset_index()\n",
    "origen = origen.set_crs(epsg=32614)\n",
    "destino = prueba['geometry'].apply(lambda l: Point(l.coords[-1])).reset_index()\n",
    "destino = destino.set_crs(epsg=32614)"
   ]
  },
  {
   "cell_type": "markdown",
   "metadata": {},
   "source": [
    "Y asignamos las zonas a cada uno de ellos "
   ]
  },
  {
   "cell_type": "code",
   "execution_count": 9,
   "metadata": {},
   "outputs": [
    {
     "data": {
      "text/html": "<div>\n<style scoped>\n    .dataframe tbody tr th:only-of-type {\n        vertical-align: middle;\n    }\n\n    .dataframe tbody tr th {\n        vertical-align: top;\n    }\n\n    .dataframe thead th {\n        text-align: right;\n    }\n</style>\n<table border=\"1\" class=\"dataframe\">\n  <thead>\n    <tr style=\"text-align: right;\">\n      <th></th>\n      <th>dia</th>\n      <th>intervalo</th>\n      <th>Usuario</th>\n      <th>geometry</th>\n      <th>Distrito</th>\n    </tr>\n  </thead>\n  <tbody>\n    <tr>\n      <th>0</th>\n      <td>2018-05-24 00:00:00+00:00</td>\n      <td>2018-05-24 06:00:00+00:00</td>\n      <td>CavaMildred</td>\n      <td>POINT (483997.931 2137169.995)</td>\n      <td>049</td>\n    </tr>\n    <tr>\n      <th>2</th>\n      <td>2018-05-24 00:00:00+00:00</td>\n      <td>2018-05-24 06:00:00+00:00</td>\n      <td>ErnestoRUrbina</td>\n      <td>POINT (483970.238 2136319.381)</td>\n      <td>049</td>\n    </tr>\n    <tr>\n      <th>7</th>\n      <td>2018-05-24 00:00:00+00:00</td>\n      <td>2018-05-24 06:00:00+00:00</td>\n      <td>Piccolodmk</td>\n      <td>POINT (483997.931 2137169.995)</td>\n      <td>049</td>\n    </tr>\n    <tr>\n      <th>12</th>\n      <td>2018-05-24 00:00:00+00:00</td>\n      <td>2018-05-24 06:00:00+00:00</td>\n      <td>labelpacklat</td>\n      <td>POINT (483970.238 2136319.381)</td>\n      <td>049</td>\n    </tr>\n    <tr>\n      <th>1</th>\n      <td>2018-05-24 00:00:00+00:00</td>\n      <td>2018-05-24 06:00:00+00:00</td>\n      <td>Danny_Figueroa</td>\n      <td>POINT (477796.301 2148413.500)</td>\n      <td>058</td>\n    </tr>\n  </tbody>\n</table>\n</div>",
      "text/plain": "                         dia                 intervalo         Usuario  \\\n0  2018-05-24 00:00:00+00:00 2018-05-24 06:00:00+00:00     CavaMildred   \n2  2018-05-24 00:00:00+00:00 2018-05-24 06:00:00+00:00  ErnestoRUrbina   \n7  2018-05-24 00:00:00+00:00 2018-05-24 06:00:00+00:00      Piccolodmk   \n12 2018-05-24 00:00:00+00:00 2018-05-24 06:00:00+00:00    labelpacklat   \n1  2018-05-24 00:00:00+00:00 2018-05-24 06:00:00+00:00  Danny_Figueroa   \n\n                          geometry Distrito  \n0   POINT (483997.931 2137169.995)      049  \n2   POINT (483970.238 2136319.381)      049  \n7   POINT (483997.931 2137169.995)      049  \n12  POINT (483970.238 2136319.381)      049  \n1   POINT (477796.301 2148413.500)      058  "
     },
     "execution_count": 9,
     "metadata": {},
     "output_type": "execute_result"
    }
   ],
   "source": [
    "origen = gpd.sjoin(origen.reset_index(), zonas).drop(['index', 'index_right', 'Descripcio'], axis=1)\n",
    "destino = gpd.sjoin(destino.reset_index(), zonas).drop(['index','index_right', 'Descripcio'], axis=1)\n",
    "origen.head()"
   ]
  },
  {
   "cell_type": "markdown",
   "metadata": {},
   "source": [
    "Realmente sólo necesitamos conservar los índices temporales (día e intervalo), el `Usuario` y los distritos de origen y destino. Cada viaje está identificado por el `Usuario`"
   ]
  },
  {
   "cell_type": "code",
   "execution_count": 10,
   "metadata": {},
   "outputs": [
    {
     "data": {
      "text/html": "<div>\n<style scoped>\n    .dataframe tbody tr th:only-of-type {\n        vertical-align: middle;\n    }\n\n    .dataframe tbody tr th {\n        vertical-align: top;\n    }\n\n    .dataframe thead th {\n        text-align: right;\n    }\n</style>\n<table border=\"1\" class=\"dataframe\">\n  <thead>\n    <tr style=\"text-align: right;\">\n      <th></th>\n      <th>dia</th>\n      <th>intervalo</th>\n      <th>Usuario</th>\n      <th>distrito_origen</th>\n      <th>distrito_destino</th>\n    </tr>\n  </thead>\n  <tbody>\n    <tr>\n      <th>0</th>\n      <td>2018-05-24 00:00:00+00:00</td>\n      <td>2018-05-24 06:00:00+00:00</td>\n      <td>CavaMildred</td>\n      <td>049</td>\n      <td>015</td>\n    </tr>\n    <tr>\n      <th>1</th>\n      <td>2018-05-24 00:00:00+00:00</td>\n      <td>2018-05-24 06:00:00+00:00</td>\n      <td>ErnestoRUrbina</td>\n      <td>049</td>\n      <td>037</td>\n    </tr>\n    <tr>\n      <th>2</th>\n      <td>2018-05-24 00:00:00+00:00</td>\n      <td>2018-05-24 06:00:00+00:00</td>\n      <td>Piccolodmk</td>\n      <td>049</td>\n      <td>115</td>\n    </tr>\n    <tr>\n      <th>3</th>\n      <td>2018-05-24 00:00:00+00:00</td>\n      <td>2018-05-24 06:00:00+00:00</td>\n      <td>labelpacklat</td>\n      <td>049</td>\n      <td>062</td>\n    </tr>\n    <tr>\n      <th>4</th>\n      <td>2018-05-24 00:00:00+00:00</td>\n      <td>2018-05-24 06:00:00+00:00</td>\n      <td>Danny_Figueroa</td>\n      <td>058</td>\n      <td>002</td>\n    </tr>\n  </tbody>\n</table>\n</div>",
      "text/plain": "                        dia                 intervalo         Usuario  \\\n0 2018-05-24 00:00:00+00:00 2018-05-24 06:00:00+00:00     CavaMildred   \n1 2018-05-24 00:00:00+00:00 2018-05-24 06:00:00+00:00  ErnestoRUrbina   \n2 2018-05-24 00:00:00+00:00 2018-05-24 06:00:00+00:00      Piccolodmk   \n3 2018-05-24 00:00:00+00:00 2018-05-24 06:00:00+00:00    labelpacklat   \n4 2018-05-24 00:00:00+00:00 2018-05-24 06:00:00+00:00  Danny_Figueroa   \n\n  distrito_origen distrito_destino  \n0             049              015  \n1             049              037  \n2             049              115  \n3             049              062  \n4             058              002  "
     },
     "execution_count": 10,
     "metadata": {},
     "output_type": "execute_result"
    }
   ],
   "source": [
    "origen_destino = origen[['dia', 'intervalo', 'Usuario' , 'Distrito']].merge(destino[['Usuario' , 'Distrito']], on='Usuario')\n",
    "origen_destino.rename({'Distrito_x':'distrito_origen', 'Distrito_y':'distrito_destino'}, axis=1, inplace=True)\n",
    "origen_destino.head()"
   ]
  },
  {
   "cell_type": "markdown",
   "metadata": {},
   "source": [
    "Ya sólo necesitamos agregar por origen y destino y contar la cantidad de viajes en cada grupo"
   ]
  },
  {
   "cell_type": "code",
   "execution_count": 11,
   "metadata": {},
   "outputs": [
    {
     "data": {
      "text/html": "<div>\n<style scoped>\n    .dataframe tbody tr th:only-of-type {\n        vertical-align: middle;\n    }\n\n    .dataframe tbody tr th {\n        vertical-align: top;\n    }\n\n    .dataframe thead th {\n        text-align: right;\n    }\n</style>\n<table border=\"1\" class=\"dataframe\">\n  <thead>\n    <tr style=\"text-align: right;\">\n      <th></th>\n      <th></th>\n      <th>dia</th>\n      <th>intervalo</th>\n      <th>Usuario</th>\n    </tr>\n    <tr>\n      <th>distrito_origen</th>\n      <th>distrito_destino</th>\n      <th></th>\n      <th></th>\n      <th></th>\n    </tr>\n  </thead>\n  <tbody>\n    <tr>\n      <th>001</th>\n      <th>123</th>\n      <td>1</td>\n      <td>1</td>\n      <td>1</td>\n    </tr>\n    <tr>\n      <th>002</th>\n      <th>015</th>\n      <td>1</td>\n      <td>1</td>\n      <td>1</td>\n    </tr>\n    <tr>\n      <th rowspan=\"4\" valign=\"top\">049</th>\n      <th>015</th>\n      <td>1</td>\n      <td>1</td>\n      <td>1</td>\n    </tr>\n    <tr>\n      <th>037</th>\n      <td>1</td>\n      <td>1</td>\n      <td>1</td>\n    </tr>\n    <tr>\n      <th>062</th>\n      <td>1</td>\n      <td>1</td>\n      <td>1</td>\n    </tr>\n    <tr>\n      <th>115</th>\n      <td>1</td>\n      <td>1</td>\n      <td>1</td>\n    </tr>\n    <tr>\n      <th rowspan=\"4\" valign=\"top\">058</th>\n      <th>002</th>\n      <td>1</td>\n      <td>1</td>\n      <td>1</td>\n    </tr>\n    <tr>\n      <th>009</th>\n      <td>1</td>\n      <td>1</td>\n      <td>1</td>\n    </tr>\n    <tr>\n      <th>037</th>\n      <td>1</td>\n      <td>1</td>\n      <td>1</td>\n    </tr>\n    <tr>\n      <th>060</th>\n      <td>1</td>\n      <td>1</td>\n      <td>1</td>\n    </tr>\n    <tr>\n      <th rowspan=\"2\" valign=\"top\">067</th>\n      <th>002</th>\n      <td>1</td>\n      <td>1</td>\n      <td>1</td>\n    </tr>\n    <tr>\n      <th>062</th>\n      <td>1</td>\n      <td>1</td>\n      <td>1</td>\n    </tr>\n    <tr>\n      <th>121</th>\n      <th>111</th>\n      <td>1</td>\n      <td>1</td>\n      <td>1</td>\n    </tr>\n  </tbody>\n</table>\n</div>",
      "text/plain": "                                  dia  intervalo  Usuario\ndistrito_origen distrito_destino                         \n001             123                 1          1        1\n002             015                 1          1        1\n049             015                 1          1        1\n                037                 1          1        1\n                062                 1          1        1\n                115                 1          1        1\n058             002                 1          1        1\n                009                 1          1        1\n                037                 1          1        1\n                060                 1          1        1\n067             002                 1          1        1\n                062                 1          1        1\n121             111                 1          1        1"
     },
     "execution_count": 11,
     "metadata": {},
     "output_type": "execute_result"
    }
   ],
   "source": [
    "origen_destino = origen_destino.groupby(['distrito_origen', 'distrito_destino']).count()\n",
    "origen_destino.head(20)"
   ]
  },
  {
   "cell_type": "markdown",
   "metadata": {},
   "source": [
    "Esto que hicimos fua sólo para un dia y un intervalo, ahora hay que hacerlo para todos. En el `DataFrame` resulante tenemos que tener, para cada dia e intervalo, un resultado igual al que tenemos arriba en `origen_destino`"
   ]
  },
  {
   "cell_type": "markdown",
   "metadata": {},
   "source": [
    "## Para todos los dias\n",
    "\n",
    "Lo único que necesitamos hacer para obtener el resultado que buuscamos es definir una fución de agregación que regrese, para cada dia e intervalo, un `DataFrame` como el que tenemos arriba"
   ]
  },
  {
   "cell_type": "code",
   "execution_count": 14,
   "metadata": {},
   "outputs": [],
   "source": [
    "def get_od(df, zonas):    \n",
    "    origen = (df['geometry']\n",
    "             .apply(lambda l: Point(l.coords[0]))\n",
    "             .reset_index()\n",
    "             .set_crs(epsg=32614)\n",
    "             )\n",
    "    destino = (df['geometry']\n",
    "              .apply(lambda l: Point(l.coords[-1]))\n",
    "              .reset_index()\n",
    "              .set_crs(epsg=32614)\n",
    "              )\n",
    "    origen = (gpd.sjoin(origen.reset_index(), zonas)\n",
    "             .drop(['index', 'index_right', 'Descripcio'], axis=1)\n",
    "             )\n",
    "    destino = (gpd.sjoin(destino.reset_index(), zonas)\n",
    "              .drop(['index','index_right', 'Descripcio'], axis=1)\n",
    "              )\n",
    "    origen_destino = (origen[['dia', 'intervalo', 'Usuario' , 'Distrito']]\n",
    "                     .merge(destino[['Usuario' , 'Distrito']], on='Usuario')\n",
    "                     .rename({'Distrito_x':'distrito_origen', 'Distrito_y':'distrito_destino'}\n",
    "                             ,axis=1)\n",
    "                     )\n",
    "    origen_destino = origen_destino.groupby(['distrito_origen', 'distrito_destino']).count()\n",
    "    return origen_destino\n",
    "\n"
   ]
  },
  {
   "cell_type": "code",
   "execution_count": 15,
   "metadata": {},
   "outputs": [
    {
     "data": {
      "text/html": "<div>\n<style scoped>\n    .dataframe tbody tr th:only-of-type {\n        vertical-align: middle;\n    }\n\n    .dataframe tbody tr th {\n        vertical-align: top;\n    }\n\n    .dataframe thead th {\n        text-align: right;\n    }\n</style>\n<table border=\"1\" class=\"dataframe\">\n  <thead>\n    <tr style=\"text-align: right;\">\n      <th></th>\n      <th></th>\n      <th></th>\n      <th></th>\n      <th>dia</th>\n      <th>intervalo</th>\n      <th>Usuario</th>\n    </tr>\n    <tr>\n      <th>dia</th>\n      <th>intervalo</th>\n      <th>distrito_origen</th>\n      <th>distrito_destino</th>\n      <th></th>\n      <th></th>\n      <th></th>\n    </tr>\n  </thead>\n  <tbody>\n    <tr>\n      <th rowspan=\"5\" valign=\"top\">2018-01-01 00:00:00+00:00</th>\n      <th rowspan=\"5\" valign=\"top\">2017-12-31 22:00:00+00:00</th>\n      <th rowspan=\"5\" valign=\"top\">001</th>\n      <th>001</th>\n      <td>1</td>\n      <td>1</td>\n      <td>1</td>\n    </tr>\n    <tr>\n      <th>002</th>\n      <td>1</td>\n      <td>1</td>\n      <td>1</td>\n    </tr>\n    <tr>\n      <th>034</th>\n      <td>1</td>\n      <td>1</td>\n      <td>1</td>\n    </tr>\n    <tr>\n      <th>044</th>\n      <td>1</td>\n      <td>1</td>\n      <td>1</td>\n    </tr>\n    <tr>\n      <th>046</th>\n      <td>1</td>\n      <td>1</td>\n      <td>1</td>\n    </tr>\n  </tbody>\n</table>\n</div>",
      "text/plain": "                                                                                      dia  \\\ndia                       intervalo                 distrito_origen distrito_destino        \n2018-01-01 00:00:00+00:00 2017-12-31 22:00:00+00:00 001             001                 1   \n                                                                    002                 1   \n                                                                    034                 1   \n                                                                    044                 1   \n                                                                    046                 1   \n\n                                                                                      intervalo  \\\ndia                       intervalo                 distrito_origen distrito_destino              \n2018-01-01 00:00:00+00:00 2017-12-31 22:00:00+00:00 001             001                       1   \n                                                                    002                       1   \n                                                                    034                       1   \n                                                                    044                       1   \n                                                                    046                       1   \n\n                                                                                      Usuario  \ndia                       intervalo                 distrito_origen distrito_destino           \n2018-01-01 00:00:00+00:00 2017-12-31 22:00:00+00:00 001             001                     1  \n                                                                    002                     1  \n                                                                    034                     1  \n                                                                    044                     1  \n                                                                    046                     1  "
     },
     "execution_count": 15,
     "metadata": {},
     "output_type": "execute_result"
    }
   ],
   "source": [
    "od_final = trayectorias.groupby(level=['dia', 'intervalo']).apply(get_od, zonas=zonas)\n",
    "od_final.head()"
   ]
  },
  {
   "cell_type": "markdown",
   "metadata": {},
   "source": [
    "Arreglemos los nombres de las columnas, en realidad todas son iguales y representan el número de viajes."
   ]
  },
  {
   "cell_type": "code",
   "execution_count": 16,
   "metadata": {},
   "outputs": [
    {
     "data": {
      "text/html": "<div>\n<style scoped>\n    .dataframe tbody tr th:only-of-type {\n        vertical-align: middle;\n    }\n\n    .dataframe tbody tr th {\n        vertical-align: top;\n    }\n\n    .dataframe thead th {\n        text-align: right;\n    }\n</style>\n<table border=\"1\" class=\"dataframe\">\n  <thead>\n    <tr style=\"text-align: right;\">\n      <th></th>\n      <th></th>\n      <th></th>\n      <th></th>\n      <th>viajes</th>\n    </tr>\n    <tr>\n      <th>dia</th>\n      <th>intervalo</th>\n      <th>distrito_origen</th>\n      <th>distrito_destino</th>\n      <th></th>\n    </tr>\n  </thead>\n  <tbody>\n    <tr>\n      <th rowspan=\"5\" valign=\"top\">2018-01-01 00:00:00+00:00</th>\n      <th rowspan=\"5\" valign=\"top\">2017-12-31 22:00:00+00:00</th>\n      <th rowspan=\"5\" valign=\"top\">001</th>\n      <th>001</th>\n      <td>1</td>\n    </tr>\n    <tr>\n      <th>002</th>\n      <td>1</td>\n    </tr>\n    <tr>\n      <th>034</th>\n      <td>1</td>\n    </tr>\n    <tr>\n      <th>044</th>\n      <td>1</td>\n    </tr>\n    <tr>\n      <th>046</th>\n      <td>1</td>\n    </tr>\n  </tbody>\n</table>\n</div>",
      "text/plain": "                                                                                      viajes\ndia                       intervalo                 distrito_origen distrito_destino        \n2018-01-01 00:00:00+00:00 2017-12-31 22:00:00+00:00 001             001                    1\n                                                                    002                    1\n                                                                    034                    1\n                                                                    044                    1\n                                                                    046                    1"
     },
     "execution_count": 16,
     "metadata": {},
     "output_type": "execute_result"
    }
   ],
   "source": [
    "od_final = (od_final[['dia']]\n",
    "           .rename({'dia':'viajes'}, axis=1)\n",
    "           )\n",
    "od_final.head()"
   ]
  },
  {
   "cell_type": "markdown",
   "metadata": {},
   "source": [
    "## Agregados por semana\n",
    "\n",
    "Para cada dia las muestras son relativamente pequeñas, entonces vamos a sacar primero los agregados para cada semana y luego obtener el promedio final. Recordemos que aquí tenemos todos los dias del periodo muestreado y que, en principio vamos a tener dos tipos de comportamiento diferentes: dias laborales y fines de semana. Entonces, primero, vamos a obtener la matriz sólo para los días laborales. Antes de eso tenemos que ajustar el índice de intervalo porque incluye el dia, entonces no podemos agrupar bien"
   ]
  },
  {
   "cell_type": "code",
   "execution_count": 17,
   "metadata": {},
   "outputs": [
    {
     "data": {
      "text/html": "<div>\n<style scoped>\n    .dataframe tbody tr th:only-of-type {\n        vertical-align: middle;\n    }\n\n    .dataframe tbody tr th {\n        vertical-align: top;\n    }\n\n    .dataframe thead th {\n        text-align: right;\n    }\n</style>\n<table border=\"1\" class=\"dataframe\">\n  <thead>\n    <tr style=\"text-align: right;\">\n      <th></th>\n      <th></th>\n      <th></th>\n      <th>distrito_destino</th>\n      <th>viajes</th>\n    </tr>\n    <tr>\n      <th>dia</th>\n      <th>intervalo</th>\n      <th>distrito_origen</th>\n      <th></th>\n      <th></th>\n    </tr>\n  </thead>\n  <tbody>\n    <tr>\n      <th rowspan=\"5\" valign=\"top\">2018-01-01 00:00:00+00:00</th>\n      <th rowspan=\"5\" valign=\"top\">22:00:00</th>\n      <th>001</th>\n      <td>001</td>\n      <td>1</td>\n    </tr>\n    <tr>\n      <th>001</th>\n      <td>002</td>\n      <td>1</td>\n    </tr>\n    <tr>\n      <th>001</th>\n      <td>034</td>\n      <td>1</td>\n    </tr>\n    <tr>\n      <th>001</th>\n      <td>044</td>\n      <td>1</td>\n    </tr>\n    <tr>\n      <th>001</th>\n      <td>046</td>\n      <td>1</td>\n    </tr>\n    <tr>\n      <th>...</th>\n      <th>...</th>\n      <th>...</th>\n      <td>...</td>\n      <td>...</td>\n    </tr>\n    <tr>\n      <th rowspan=\"5\" valign=\"top\">2018-12-31 00:00:00+00:00</th>\n      <th rowspan=\"5\" valign=\"top\">22:00:00</th>\n      <th>111</th>\n      <td>115</td>\n      <td>1</td>\n    </tr>\n    <tr>\n      <th>131</th>\n      <td>137</td>\n      <td>1</td>\n    </tr>\n    <tr>\n      <th>139</th>\n      <td>034</td>\n      <td>1</td>\n    </tr>\n    <tr>\n      <th>139</th>\n      <td>173</td>\n      <td>1</td>\n    </tr>\n    <tr>\n      <th>158</th>\n      <td>147</td>\n      <td>1</td>\n    </tr>\n  </tbody>\n</table>\n<p>151727 rows × 2 columns</p>\n</div>",
      "text/plain": "                                                    distrito_destino  viajes\ndia                       intervalo distrito_origen                         \n2018-01-01 00:00:00+00:00 22:00:00  001                          001       1\n                                    001                          002       1\n                                    001                          034       1\n                                    001                          044       1\n                                    001                          046       1\n...                                                              ...     ...\n2018-12-31 00:00:00+00:00 22:00:00  111                          115       1\n                                    131                          137       1\n                                    139                          034       1\n                                    139                          173       1\n                                    158                          147       1\n\n[151727 rows x 2 columns]"
     },
     "execution_count": 17,
     "metadata": {},
     "output_type": "execute_result"
    }
   ],
   "source": [
    "od_final = od_final.reset_index()\n",
    "od_final['intervalo_time'] = od_final['intervalo'].apply(lambda x: x.strftime('%H:%M:%S'))\n",
    "od_final = (od_final.drop(['intervalo'], axis=1)\n",
    "            .rename({'intervalo_time':'intervalo'}, axis=1)\n",
    "            .set_index(['dia', 'intervalo', 'distrito_origen'])\n",
    "           )\n",
    "od_final"
   ]
  },
  {
   "cell_type": "markdown",
   "metadata": {},
   "source": [
    "Seleccionemos los dias laborales"
   ]
  },
  {
   "cell_type": "code",
   "execution_count": 18,
   "metadata": {},
   "outputs": [],
   "source": [
    "od_laborales = od_final.loc[od_final.index.get_level_values('dia').weekday.isin(range(0,5)),:,:]"
   ]
  },
  {
   "cell_type": "markdown",
   "metadata": {},
   "source": [
    "Agrupemos estos datos por semana "
   ]
  },
  {
   "cell_type": "code",
   "execution_count": 19,
   "metadata": {},
   "outputs": [
    {
     "data": {
      "text/html": "<div>\n<style scoped>\n    .dataframe tbody tr th:only-of-type {\n        vertical-align: middle;\n    }\n\n    .dataframe tbody tr th {\n        vertical-align: top;\n    }\n\n    .dataframe thead th {\n        text-align: right;\n    }\n</style>\n<table border=\"1\" class=\"dataframe\">\n  <thead>\n    <tr style=\"text-align: right;\">\n      <th></th>\n      <th></th>\n      <th></th>\n      <th></th>\n      <th>viajes</th>\n    </tr>\n    <tr>\n      <th>dia</th>\n      <th>intervalo</th>\n      <th>distrito_origen</th>\n      <th>distrito_destino</th>\n      <th></th>\n    </tr>\n  </thead>\n  <tbody>\n    <tr>\n      <th rowspan=\"5\" valign=\"top\">2018-01-07 00:00:00+00:00</th>\n      <th rowspan=\"5\" valign=\"top\">02:00:00</th>\n      <th rowspan=\"5\" valign=\"top\">001</th>\n      <th>001</th>\n      <td>12</td>\n    </tr>\n    <tr>\n      <th>002</th>\n      <td>11</td>\n    </tr>\n    <tr>\n      <th>003</th>\n      <td>2</td>\n    </tr>\n    <tr>\n      <th>006</th>\n      <td>1</td>\n    </tr>\n    <tr>\n      <th>008</th>\n      <td>4</td>\n    </tr>\n    <tr>\n      <th>...</th>\n      <th>...</th>\n      <th>...</th>\n      <th>...</th>\n      <td>...</td>\n    </tr>\n    <tr>\n      <th rowspan=\"5\" valign=\"top\">2019-01-06 00:00:00+00:00</th>\n      <th rowspan=\"5\" valign=\"top\">22:00:00</th>\n      <th>139</th>\n      <th>173</th>\n      <td>1</td>\n    </tr>\n    <tr>\n      <th>158</th>\n      <th>147</th>\n      <td>1</td>\n    </tr>\n    <tr>\n      <th>171</th>\n      <th>171</th>\n      <td>1</td>\n    </tr>\n    <tr>\n      <th>173</th>\n      <th>045</th>\n      <td>1</td>\n    </tr>\n    <tr>\n      <th>207</th>\n      <th>206</th>\n      <td>1</td>\n    </tr>\n  </tbody>\n</table>\n<p>84588 rows × 1 columns</p>\n</div>",
      "text/plain": "                                                                      viajes\ndia                       intervalo distrito_origen distrito_destino        \n2018-01-07 00:00:00+00:00 02:00:00  001             001                   12\n                                                    002                   11\n                                                    003                    2\n                                                    006                    1\n                                                    008                    4\n...                                                                      ...\n2019-01-06 00:00:00+00:00 22:00:00  139             173                    1\n                                    158             147                    1\n                                    171             171                    1\n                                    173             045                    1\n                                    207             206                    1\n\n[84588 rows x 1 columns]"
     },
     "execution_count": 19,
     "metadata": {},
     "output_type": "execute_result"
    }
   ],
   "source": [
    "laborales_semana = od_final.groupby([pd.Grouper(level='dia', freq='W'), 'intervalo', 'distrito_origen', 'distrito_destino']).sum()\n",
    "laborales_semana"
   ]
  },
  {
   "cell_type": "markdown",
   "metadata": {},
   "source": [
    "Finalmente, calculemos los estadísticos (suma, media, desviación estándar) para cada uno de los intervalos sobre todo el periodo de estudio."
   ]
  },
  {
   "cell_type": "code",
   "execution_count": 20,
   "metadata": {},
   "outputs": [
    {
     "data": {
      "text/html": "<div>\n<style scoped>\n    .dataframe tbody tr th:only-of-type {\n        vertical-align: middle;\n    }\n\n    .dataframe tbody tr th {\n        vertical-align: top;\n    }\n\n    .dataframe thead tr th {\n        text-align: left;\n    }\n\n    .dataframe thead tr:last-of-type th {\n        text-align: right;\n    }\n</style>\n<table border=\"1\" class=\"dataframe\">\n  <thead>\n    <tr>\n      <th></th>\n      <th></th>\n      <th></th>\n      <th colspan=\"3\" halign=\"left\">viajes</th>\n    </tr>\n    <tr>\n      <th></th>\n      <th></th>\n      <th></th>\n      <th>sum</th>\n      <th>mean</th>\n      <th>std</th>\n    </tr>\n    <tr>\n      <th>intervalo</th>\n      <th>distrito_origen</th>\n      <th>distrito_destino</th>\n      <th></th>\n      <th></th>\n      <th></th>\n    </tr>\n  </thead>\n  <tbody>\n    <tr>\n      <th rowspan=\"5\" valign=\"top\">02:00:00</th>\n      <th rowspan=\"5\" valign=\"top\">001</th>\n      <th>001</th>\n      <td>410</td>\n      <td>7.735849</td>\n      <td>4.015120</td>\n    </tr>\n    <tr>\n      <th>002</th>\n      <td>238</td>\n      <td>17.000000</td>\n      <td>6.598368</td>\n    </tr>\n    <tr>\n      <th>003</th>\n      <td>45</td>\n      <td>1.500000</td>\n      <td>0.682288</td>\n    </tr>\n    <tr>\n      <th>004</th>\n      <td>11</td>\n      <td>1.100000</td>\n      <td>0.316228</td>\n    </tr>\n    <tr>\n      <th>005</th>\n      <td>14</td>\n      <td>1.000000</td>\n      <td>0.000000</td>\n    </tr>\n    <tr>\n      <th>...</th>\n      <th>...</th>\n      <th>...</th>\n      <td>...</td>\n      <td>...</td>\n      <td>...</td>\n    </tr>\n    <tr>\n      <th rowspan=\"5\" valign=\"top\">22:00:00</th>\n      <th rowspan=\"5\" valign=\"top\">300</th>\n      <th>134</th>\n      <td>1</td>\n      <td>1.000000</td>\n      <td>NaN</td>\n    </tr>\n    <tr>\n      <th>135</th>\n      <td>1</td>\n      <td>1.000000</td>\n      <td>NaN</td>\n    </tr>\n    <tr>\n      <th>165</th>\n      <td>4</td>\n      <td>1.333333</td>\n      <td>0.577350</td>\n    </tr>\n    <tr>\n      <th>171</th>\n      <td>1</td>\n      <td>1.000000</td>\n      <td>NaN</td>\n    </tr>\n    <tr>\n      <th>300</th>\n      <td>6</td>\n      <td>1.000000</td>\n      <td>0.000000</td>\n    </tr>\n  </tbody>\n</table>\n<p>16758 rows × 3 columns</p>\n</div>",
      "text/plain": "                                           viajes                     \n                                              sum       mean       std\nintervalo distrito_origen distrito_destino                            \n02:00:00  001             001                 410   7.735849  4.015120\n                          002                 238  17.000000  6.598368\n                          003                  45   1.500000  0.682288\n                          004                  11   1.100000  0.316228\n                          005                  14   1.000000  0.000000\n...                                           ...        ...       ...\n22:00:00  300             134                   1   1.000000       NaN\n                          135                   1   1.000000       NaN\n                          165                   4   1.333333  0.577350\n                          171                   1   1.000000       NaN\n                          300                   6   1.000000  0.000000\n\n[16758 rows x 3 columns]"
     },
     "execution_count": 20,
     "metadata": {},
     "output_type": "execute_result"
    }
   ],
   "source": [
    "promedios_intervalo = laborales_semana.groupby(['intervalo', 'distrito_origen', 'distrito_destino']).agg(['sum', 'mean', 'std'])\n",
    "promedios_intervalo"
   ]
  },
  {
   "cell_type": "markdown",
   "metadata": {},
   "source": [
    "Exportamos el resultado como csv"
   ]
  },
  {
   "cell_type": "code",
   "execution_count": 21,
   "metadata": {},
   "outputs": [],
   "source": [
    "promedios_intervalo.reset_index(col_level=1).to_csv(\"../output/matriz_od_semana_2018.csv\")"
   ]
  },
  {
   "cell_type": "code",
   "execution_count": null,
   "metadata": {},
   "outputs": [],
   "source": []
  }
 ],
 "metadata": {
  "kernelspec": {
   "display_name": "Python 3",
   "language": "python",
   "name": "python3"
  },
  "language_info": {
   "codemirror_mode": {
    "name": "ipython",
    "version": 3
   },
   "file_extension": ".py",
   "mimetype": "text/x-python",
   "name": "python",
   "nbconvert_exporter": "python",
   "pygments_lexer": "ipython3",
   "version": "3.7.6"
  }
 },
 "nbformat": 4,
 "nbformat_minor": 4
}