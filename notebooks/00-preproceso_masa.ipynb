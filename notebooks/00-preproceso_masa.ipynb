{
 "metadata": {
  "language_info": {
   "codemirror_mode": {
    "name": "ipython",
    "version": 3
   },
   "file_extension": ".py",
   "mimetype": "text/x-python",
   "name": "python",
   "nbconvert_exporter": "python",
   "pygments_lexer": "ipython3",
   "version": "3.7.8-final"
  },
  "orig_nbformat": 2,
  "kernelspec": {
   "name": "python3",
   "display_name": "Python 3"
  }
 },
 "nbformat": 4,
 "nbformat_minor": 2,
 "cells": [
  {
   "source": [
    "# Preproceso para csvs\n",
    "\n",
    "En la carpeta datos tenemos un csv para cada mes del año, vamos leer y procesarlos para obtaner un archivo con todos los tuitas del año para la zona de la CDMX.\n",
    "\n",
    "Como son un montón de datos, entonces mejor vamos a cortar cada mes con la zona de análisis para no cargar con todos los tuits que njo nos interesan"
   ],
   "cell_type": "markdown",
   "metadata": {}
  },
  {
   "cell_type": "code",
   "execution_count": 1,
   "metadata": {},
   "outputs": [],
   "source": [
    "%load_ext autoreload\n",
    "%autoreload 2\n",
    "import geopandas as gpd\n",
    "from shapely.geometry import LineString, Point\n",
    "from datetime import datetime, timedelta\n",
    "import pandas as pd\n",
    "import matplotlib.pyplot as plt\n",
    "import pandas as pd\n",
    "import numpy as np\n",
    "import glob\n",
    "import multiprocessing\n",
    "import os\n",
    "module_path = os.path.abspath(os.path.join('..'))\n",
    "if module_path not in sys.path:\n",
    "    sys.path.append(module_path)\n",
    "from src.preprocess import preprocesa_archivo"
   ]
  },
  {
   "source": [
    "Empezamos por leer un sólo archivo y ver cómo hacemos todo el preproceso"
   ],
   "cell_type": "markdown",
   "metadata": {}
  },
  {
   "cell_type": "code",
   "execution_count": 3,
   "metadata": {},
   "outputs": [
    {
     "output_type": "execute_result",
     "data": {
      "text/plain": [
       "                         ID          Usuario               Fecha_tweet  \\\n",
       "0        947618373680103424  LuisDarioGarcia  2018-01-01T00:00:00.000Z   \n",
       "1        947618374309302272  _BlackBeauty12_  2018-01-01T00:00:00.000Z   \n",
       "2        947618370790350848         Mia_soga  2018-01-01T00:00:00.000Z   \n",
       "3        947618373239738369     johnpneedham  2018-01-01T00:00:00.000Z   \n",
       "4        947618370958057472      basic_micah  2018-01-01T00:00:00.000Z   \n",
       "...                     ...              ...                       ...   \n",
       "8256469  958852390257479680  banditchinorich  2018-01-31T23:59:59.000Z   \n",
       "8256470  958852391369039872     _ArlingtonTX  2018-01-31T23:59:59.000Z   \n",
       "8256471  958852393768275969         tews2com  2018-01-31T23:59:59.000Z   \n",
       "8256472  958852393176793090   juanmapregunta  2018-01-31T23:59:59.000Z   \n",
       "8256473  958852392509984768           JulsMD  2018-01-31T23:59:59.000Z   \n",
       "\n",
       "                                                     Texto    Latitud  \\\n",
       "0        De forma general, el 2017 estuvo muy culero y ...  19.432722   \n",
       "1        I Swear!! We Was Always In The Room Talking Ab...  32.576227   \n",
       "2                    @fedevigevani https://t.co/ppuinwo7Wb  19.128538   \n",
       "3        Chicken &amp; corn chili with a cornbread topp...  30.054100   \n",
       "4        Idk if what I’m sensing is right...I don’t wan...  30.521057   \n",
       "...                                                    ...        ...   \n",
       "8256469                        What is was and what happen  29.838495   \n",
       "8256470                          Arlington: 6:01pm: sunset  32.740000   \n",
       "8256471  Wind 9.6 mph S. Barometer 29.863 in, Falling s...  32.424167   \n",
       "8256472  #Entérate Ministros de México, #EEUU y #Canadá...  23.625418   \n",
       "8256473  I'm at La Orgánica Juice Bar Wraps &amp; Salad...  17.995199   \n",
       "\n",
       "           Longitud Sentimiento         Idioma  \n",
       "0        -99.017016    negativo        Español  \n",
       "1        -86.680737    positivo         Inglés  \n",
       "2       -104.363380      neutro  Indeterminado  \n",
       "3        -95.387000      neutro         Inglés  \n",
       "4        -87.202962      neutro         Inglés  \n",
       "...             ...         ...            ...  \n",
       "8256469  -95.446487      neutro         Inglés  \n",
       "8256470  -97.110000      neutro        Noruego  \n",
       "8256471  -96.952222      neutro         Inglés  \n",
       "8256472 -102.558037    positivo        Español  \n",
       "8256473  -92.927800    positivo         Inglés  \n",
       "\n",
       "[8256474 rows x 8 columns]"
      ],
      "text/html": "<div>\n<style scoped>\n    .dataframe tbody tr th:only-of-type {\n        vertical-align: middle;\n    }\n\n    .dataframe tbody tr th {\n        vertical-align: top;\n    }\n\n    .dataframe thead th {\n        text-align: right;\n    }\n</style>\n<table border=\"1\" class=\"dataframe\">\n  <thead>\n    <tr style=\"text-align: right;\">\n      <th></th>\n      <th>ID</th>\n      <th>Usuario</th>\n      <th>Fecha_tweet</th>\n      <th>Texto</th>\n      <th>Latitud</th>\n      <th>Longitud</th>\n      <th>Sentimiento</th>\n      <th>Idioma</th>\n    </tr>\n  </thead>\n  <tbody>\n    <tr>\n      <th>0</th>\n      <td>947618373680103424</td>\n      <td>LuisDarioGarcia</td>\n      <td>2018-01-01T00:00:00.000Z</td>\n      <td>De forma general, el 2017 estuvo muy culero y ...</td>\n      <td>19.432722</td>\n      <td>-99.017016</td>\n      <td>negativo</td>\n      <td>Español</td>\n    </tr>\n    <tr>\n      <th>1</th>\n      <td>947618374309302272</td>\n      <td>_BlackBeauty12_</td>\n      <td>2018-01-01T00:00:00.000Z</td>\n      <td>I Swear!! We Was Always In The Room Talking Ab...</td>\n      <td>32.576227</td>\n      <td>-86.680737</td>\n      <td>positivo</td>\n      <td>Inglés</td>\n    </tr>\n    <tr>\n      <th>2</th>\n      <td>947618370790350848</td>\n      <td>Mia_soga</td>\n      <td>2018-01-01T00:00:00.000Z</td>\n      <td>@fedevigevani https://t.co/ppuinwo7Wb</td>\n      <td>19.128538</td>\n      <td>-104.363380</td>\n      <td>neutro</td>\n      <td>Indeterminado</td>\n    </tr>\n    <tr>\n      <th>3</th>\n      <td>947618373239738369</td>\n      <td>johnpneedham</td>\n      <td>2018-01-01T00:00:00.000Z</td>\n      <td>Chicken &amp;amp; corn chili with a cornbread topp...</td>\n      <td>30.054100</td>\n      <td>-95.387000</td>\n      <td>neutro</td>\n      <td>Inglés</td>\n    </tr>\n    <tr>\n      <th>4</th>\n      <td>947618370958057472</td>\n      <td>basic_micah</td>\n      <td>2018-01-01T00:00:00.000Z</td>\n      <td>Idk if what I’m sensing is right...I don’t wan...</td>\n      <td>30.521057</td>\n      <td>-87.202962</td>\n      <td>neutro</td>\n      <td>Inglés</td>\n    </tr>\n    <tr>\n      <th>...</th>\n      <td>...</td>\n      <td>...</td>\n      <td>...</td>\n      <td>...</td>\n      <td>...</td>\n      <td>...</td>\n      <td>...</td>\n      <td>...</td>\n    </tr>\n    <tr>\n      <th>8256469</th>\n      <td>958852390257479680</td>\n      <td>banditchinorich</td>\n      <td>2018-01-31T23:59:59.000Z</td>\n      <td>What is was and what happen</td>\n      <td>29.838495</td>\n      <td>-95.446487</td>\n      <td>neutro</td>\n      <td>Inglés</td>\n    </tr>\n    <tr>\n      <th>8256470</th>\n      <td>958852391369039872</td>\n      <td>_ArlingtonTX</td>\n      <td>2018-01-31T23:59:59.000Z</td>\n      <td>Arlington: 6:01pm: sunset</td>\n      <td>32.740000</td>\n      <td>-97.110000</td>\n      <td>neutro</td>\n      <td>Noruego</td>\n    </tr>\n    <tr>\n      <th>8256471</th>\n      <td>958852393768275969</td>\n      <td>tews2com</td>\n      <td>2018-01-31T23:59:59.000Z</td>\n      <td>Wind 9.6 mph S. Barometer 29.863 in, Falling s...</td>\n      <td>32.424167</td>\n      <td>-96.952222</td>\n      <td>neutro</td>\n      <td>Inglés</td>\n    </tr>\n    <tr>\n      <th>8256472</th>\n      <td>958852393176793090</td>\n      <td>juanmapregunta</td>\n      <td>2018-01-31T23:59:59.000Z</td>\n      <td>#Entérate Ministros de México, #EEUU y #Canadá...</td>\n      <td>23.625418</td>\n      <td>-102.558037</td>\n      <td>positivo</td>\n      <td>Español</td>\n    </tr>\n    <tr>\n      <th>8256473</th>\n      <td>958852392509984768</td>\n      <td>JulsMD</td>\n      <td>2018-01-31T23:59:59.000Z</td>\n      <td>I'm at La Orgánica Juice Bar Wraps &amp;amp; Salad...</td>\n      <td>17.995199</td>\n      <td>-92.927800</td>\n      <td>positivo</td>\n      <td>Inglés</td>\n    </tr>\n  </tbody>\n</table>\n<p>8256474 rows × 8 columns</p>\n</div>"
     },
     "metadata": {},
     "execution_count": 3
    }
   ],
   "source": [
    "un_mes = pd.read_csv(\"../data/enero2018.csv\")\n",
    "un_mes"
   ]
  },
  {
   "source": [
    "Nos quedamos con las columnas que nos interesan y convertimos en GeoDataFrame"
   ],
   "cell_type": "markdown",
   "metadata": {}
  },
  {
   "cell_type": "code",
   "execution_count": 4,
   "metadata": {},
   "outputs": [
    {
     "output_type": "execute_result",
     "data": {
      "text/plain": [
       "                         ID          Usuario               Fecha_tweet  \\\n",
       "0        947618373680103424  LuisDarioGarcia  2018-01-01T00:00:00.000Z   \n",
       "1        947618374309302272  _BlackBeauty12_  2018-01-01T00:00:00.000Z   \n",
       "2        947618370790350848         Mia_soga  2018-01-01T00:00:00.000Z   \n",
       "3        947618373239738369     johnpneedham  2018-01-01T00:00:00.000Z   \n",
       "4        947618370958057472      basic_micah  2018-01-01T00:00:00.000Z   \n",
       "...                     ...              ...                       ...   \n",
       "8256469  958852390257479680  banditchinorich  2018-01-31T23:59:59.000Z   \n",
       "8256470  958852391369039872     _ArlingtonTX  2018-01-31T23:59:59.000Z   \n",
       "8256471  958852393768275969         tews2com  2018-01-31T23:59:59.000Z   \n",
       "8256472  958852393176793090   juanmapregunta  2018-01-31T23:59:59.000Z   \n",
       "8256473  958852392509984768           JulsMD  2018-01-31T23:59:59.000Z   \n",
       "\n",
       "                            geometry  \n",
       "0         POINT (-99.01702 19.43272)  \n",
       "1         POINT (-86.68074 32.57623)  \n",
       "2        POINT (-104.36338 19.12854)  \n",
       "3         POINT (-95.38700 30.05410)  \n",
       "4         POINT (-87.20296 30.52106)  \n",
       "...                              ...  \n",
       "8256469   POINT (-95.44649 29.83850)  \n",
       "8256470   POINT (-97.11000 32.74000)  \n",
       "8256471   POINT (-96.95222 32.42417)  \n",
       "8256472  POINT (-102.55804 23.62542)  \n",
       "8256473   POINT (-92.92780 17.99520)  \n",
       "\n",
       "[8256474 rows x 4 columns]"
      ],
      "text/html": "<div>\n<style scoped>\n    .dataframe tbody tr th:only-of-type {\n        vertical-align: middle;\n    }\n\n    .dataframe tbody tr th {\n        vertical-align: top;\n    }\n\n    .dataframe thead th {\n        text-align: right;\n    }\n</style>\n<table border=\"1\" class=\"dataframe\">\n  <thead>\n    <tr style=\"text-align: right;\">\n      <th></th>\n      <th>ID</th>\n      <th>Usuario</th>\n      <th>Fecha_tweet</th>\n      <th>geometry</th>\n    </tr>\n  </thead>\n  <tbody>\n    <tr>\n      <th>0</th>\n      <td>947618373680103424</td>\n      <td>LuisDarioGarcia</td>\n      <td>2018-01-01T00:00:00.000Z</td>\n      <td>POINT (-99.01702 19.43272)</td>\n    </tr>\n    <tr>\n      <th>1</th>\n      <td>947618374309302272</td>\n      <td>_BlackBeauty12_</td>\n      <td>2018-01-01T00:00:00.000Z</td>\n      <td>POINT (-86.68074 32.57623)</td>\n    </tr>\n    <tr>\n      <th>2</th>\n      <td>947618370790350848</td>\n      <td>Mia_soga</td>\n      <td>2018-01-01T00:00:00.000Z</td>\n      <td>POINT (-104.36338 19.12854)</td>\n    </tr>\n    <tr>\n      <th>3</th>\n      <td>947618373239738369</td>\n      <td>johnpneedham</td>\n      <td>2018-01-01T00:00:00.000Z</td>\n      <td>POINT (-95.38700 30.05410)</td>\n    </tr>\n    <tr>\n      <th>4</th>\n      <td>947618370958057472</td>\n      <td>basic_micah</td>\n      <td>2018-01-01T00:00:00.000Z</td>\n      <td>POINT (-87.20296 30.52106)</td>\n    </tr>\n    <tr>\n      <th>...</th>\n      <td>...</td>\n      <td>...</td>\n      <td>...</td>\n      <td>...</td>\n    </tr>\n    <tr>\n      <th>8256469</th>\n      <td>958852390257479680</td>\n      <td>banditchinorich</td>\n      <td>2018-01-31T23:59:59.000Z</td>\n      <td>POINT (-95.44649 29.83850)</td>\n    </tr>\n    <tr>\n      <th>8256470</th>\n      <td>958852391369039872</td>\n      <td>_ArlingtonTX</td>\n      <td>2018-01-31T23:59:59.000Z</td>\n      <td>POINT (-97.11000 32.74000)</td>\n    </tr>\n    <tr>\n      <th>8256471</th>\n      <td>958852393768275969</td>\n      <td>tews2com</td>\n      <td>2018-01-31T23:59:59.000Z</td>\n      <td>POINT (-96.95222 32.42417)</td>\n    </tr>\n    <tr>\n      <th>8256472</th>\n      <td>958852393176793090</td>\n      <td>juanmapregunta</td>\n      <td>2018-01-31T23:59:59.000Z</td>\n      <td>POINT (-102.55804 23.62542)</td>\n    </tr>\n    <tr>\n      <th>8256473</th>\n      <td>958852392509984768</td>\n      <td>JulsMD</td>\n      <td>2018-01-31T23:59:59.000Z</td>\n      <td>POINT (-92.92780 17.99520)</td>\n    </tr>\n  </tbody>\n</table>\n<p>8256474 rows × 4 columns</p>\n</div>"
     },
     "metadata": {},
     "execution_count": 4
    }
   ],
   "source": [
    "un_mes = un_mes.loc[:,['ID', 'Usuario', 'Fecha_tweet', 'Latitud', 'Longitud']]\n",
    "un_mes = (gpd.GeoDataFrame(un_mes, geometry=gpd.points_from_xy                                          (un_mes.Longitud, un_mes.Latitud))\n",
    "          .drop(['Latitud', 'Longitud'], axis=1)\n",
    "          .set_crs(4326)\n",
    "          )\n",
    "un_mes"
   ]
  },
  {
   "source": [
    "Filtramos con los distritos de análisis (y de una vez asignamos el id del distrito) "
   ],
   "cell_type": "markdown",
   "metadata": {}
  },
  {
   "cell_type": "code",
   "execution_count": 7,
   "metadata": {},
   "outputs": [
    {
     "output_type": "execute_result",
     "data": {
      "text/plain": [
       "                         ID          Usuario               Fecha_tweet  \\\n",
       "0        947618373680103424  LuisDarioGarcia  2018-01-01T00:00:00.000Z   \n",
       "110      947618450163281921     venus_saiyan  2018-01-01T00:00:19.000Z   \n",
       "115      947618453179043840   survivorcancer  2018-01-01T00:00:19.000Z   \n",
       "197      947618513140768774  LuisDarioGarcia  2018-01-01T00:00:34.000Z   \n",
       "643      947618841403756546  LuisDarioGarcia  2018-01-01T00:01:52.000Z   \n",
       "...                     ...              ...                       ...   \n",
       "5478791  955227268078624773        dan_mcruz  2018-01-21T23:55:02.000Z   \n",
       "6767545  956924689179402241          OskrWar  2018-01-26T16:19:59.000Z   \n",
       "7176608  957445347118403584            arhx3  2018-01-28T02:48:53.000Z   \n",
       "5725275  955550568876974080  Guiller18152066  2018-01-22T21:19:43.000Z   \n",
       "6422362  956409719756902400        Yurivvone  2018-01-25T06:13:41.000Z   \n",
       "\n",
       "                           geometry Distrito  \n",
       "0        POINT (-99.01702 19.43272)      173  \n",
       "110      POINT (-99.01702 19.43272)      173  \n",
       "115      POINT (-99.01702 19.43272)      173  \n",
       "197      POINT (-99.01702 19.43272)      173  \n",
       "643      POINT (-99.01702 19.43272)      173  \n",
       "...                             ...      ...  \n",
       "5478791  POINT (-98.98707 19.40039)      183  \n",
       "6767545  POINT (-98.98619 19.40337)      183  \n",
       "7176608  POINT (-98.99752 19.39815)      183  \n",
       "5725275  POINT (-99.07022 19.57566)      148  \n",
       "6422362  POINT (-99.06452 19.57636)      148  \n",
       "\n",
       "[568771 rows x 5 columns]"
      ],
      "text/html": "<div>\n<style scoped>\n    .dataframe tbody tr th:only-of-type {\n        vertical-align: middle;\n    }\n\n    .dataframe tbody tr th {\n        vertical-align: top;\n    }\n\n    .dataframe thead th {\n        text-align: right;\n    }\n</style>\n<table border=\"1\" class=\"dataframe\">\n  <thead>\n    <tr style=\"text-align: right;\">\n      <th></th>\n      <th>ID</th>\n      <th>Usuario</th>\n      <th>Fecha_tweet</th>\n      <th>geometry</th>\n      <th>Distrito</th>\n    </tr>\n  </thead>\n  <tbody>\n    <tr>\n      <th>0</th>\n      <td>947618373680103424</td>\n      <td>LuisDarioGarcia</td>\n      <td>2018-01-01T00:00:00.000Z</td>\n      <td>POINT (-99.01702 19.43272)</td>\n      <td>173</td>\n    </tr>\n    <tr>\n      <th>110</th>\n      <td>947618450163281921</td>\n      <td>venus_saiyan</td>\n      <td>2018-01-01T00:00:19.000Z</td>\n      <td>POINT (-99.01702 19.43272)</td>\n      <td>173</td>\n    </tr>\n    <tr>\n      <th>115</th>\n      <td>947618453179043840</td>\n      <td>survivorcancer</td>\n      <td>2018-01-01T00:00:19.000Z</td>\n      <td>POINT (-99.01702 19.43272)</td>\n      <td>173</td>\n    </tr>\n    <tr>\n      <th>197</th>\n      <td>947618513140768774</td>\n      <td>LuisDarioGarcia</td>\n      <td>2018-01-01T00:00:34.000Z</td>\n      <td>POINT (-99.01702 19.43272)</td>\n      <td>173</td>\n    </tr>\n    <tr>\n      <th>643</th>\n      <td>947618841403756546</td>\n      <td>LuisDarioGarcia</td>\n      <td>2018-01-01T00:01:52.000Z</td>\n      <td>POINT (-99.01702 19.43272)</td>\n      <td>173</td>\n    </tr>\n    <tr>\n      <th>...</th>\n      <td>...</td>\n      <td>...</td>\n      <td>...</td>\n      <td>...</td>\n      <td>...</td>\n    </tr>\n    <tr>\n      <th>5478791</th>\n      <td>955227268078624773</td>\n      <td>dan_mcruz</td>\n      <td>2018-01-21T23:55:02.000Z</td>\n      <td>POINT (-98.98707 19.40039)</td>\n      <td>183</td>\n    </tr>\n    <tr>\n      <th>6767545</th>\n      <td>956924689179402241</td>\n      <td>OskrWar</td>\n      <td>2018-01-26T16:19:59.000Z</td>\n      <td>POINT (-98.98619 19.40337)</td>\n      <td>183</td>\n    </tr>\n    <tr>\n      <th>7176608</th>\n      <td>957445347118403584</td>\n      <td>arhx3</td>\n      <td>2018-01-28T02:48:53.000Z</td>\n      <td>POINT (-98.99752 19.39815)</td>\n      <td>183</td>\n    </tr>\n    <tr>\n      <th>5725275</th>\n      <td>955550568876974080</td>\n      <td>Guiller18152066</td>\n      <td>2018-01-22T21:19:43.000Z</td>\n      <td>POINT (-99.07022 19.57566)</td>\n      <td>148</td>\n    </tr>\n    <tr>\n      <th>6422362</th>\n      <td>956409719756902400</td>\n      <td>Yurivvone</td>\n      <td>2018-01-25T06:13:41.000Z</td>\n      <td>POINT (-99.06452 19.57636)</td>\n      <td>148</td>\n    </tr>\n  </tbody>\n</table>\n<p>568771 rows × 5 columns</p>\n</div>"
     },
     "metadata": {},
     "execution_count": 7
    }
   ],
   "source": [
    "distritos = gpd.read_file(\"../data/shapes/DistritosEODHogaresZMVM2017.shp\")\n",
    "un_mes = (gpd.sjoin(un_mes, distritos.to_crs(4326))\n",
    "          .drop(['index_right', 'Descripcio'], axis=1)\n",
    "          )\n",
    "un_mes"
   ]
  },
  {
   "source": [
    "Ahora convertimos `Fecha_tweet` en timestamp para poder manipularlo más adelante"
   ],
   "cell_type": "markdown",
   "metadata": {}
  },
  {
   "cell_type": "code",
   "execution_count": 8,
   "metadata": {},
   "outputs": [
    {
     "output_type": "execute_result",
     "data": {
      "text/plain": [
       "                         ID          Usuario               Fecha_tweet  \\\n",
       "0        947618373680103424  LuisDarioGarcia  2018-01-01T00:00:00.000Z   \n",
       "1        947618374309302272  _BlackBeauty12_  2018-01-01T00:00:00.000Z   \n",
       "2        947618370790350848         Mia_soga  2018-01-01T00:00:00.000Z   \n",
       "3        947618373239738369     johnpneedham  2018-01-01T00:00:00.000Z   \n",
       "4        947618370958057472      basic_micah  2018-01-01T00:00:00.000Z   \n",
       "...                     ...              ...                       ...   \n",
       "8256469  958852390257479680  banditchinorich  2018-01-31T23:59:59.000Z   \n",
       "8256470  958852391369039872     _ArlingtonTX  2018-01-31T23:59:59.000Z   \n",
       "8256471  958852393768275969         tews2com  2018-01-31T23:59:59.000Z   \n",
       "8256472  958852393176793090   juanmapregunta  2018-01-31T23:59:59.000Z   \n",
       "8256473  958852392509984768           JulsMD  2018-01-31T23:59:59.000Z   \n",
       "\n",
       "                            geometry             fecha_hora_dt  \n",
       "0         POINT (-99.01702 19.43272) 2018-01-01 00:00:00+00:00  \n",
       "1         POINT (-86.68074 32.57623) 2018-01-01 00:00:00+00:00  \n",
       "2        POINT (-104.36338 19.12854) 2018-01-01 00:00:00+00:00  \n",
       "3         POINT (-95.38700 30.05410) 2018-01-01 00:00:00+00:00  \n",
       "4         POINT (-87.20296 30.52106) 2018-01-01 00:00:00+00:00  \n",
       "...                              ...                       ...  \n",
       "8256469   POINT (-95.44649 29.83850) 2018-01-31 23:59:59+00:00  \n",
       "8256470   POINT (-97.11000 32.74000) 2018-01-31 23:59:59+00:00  \n",
       "8256471   POINT (-96.95222 32.42417) 2018-01-31 23:59:59+00:00  \n",
       "8256472  POINT (-102.55804 23.62542) 2018-01-31 23:59:59+00:00  \n",
       "8256473   POINT (-92.92780 17.99520) 2018-01-31 23:59:59+00:00  \n",
       "\n",
       "[8256474 rows x 5 columns]"
      ],
      "text/html": "<div>\n<style scoped>\n    .dataframe tbody tr th:only-of-type {\n        vertical-align: middle;\n    }\n\n    .dataframe tbody tr th {\n        vertical-align: top;\n    }\n\n    .dataframe thead th {\n        text-align: right;\n    }\n</style>\n<table border=\"1\" class=\"dataframe\">\n  <thead>\n    <tr style=\"text-align: right;\">\n      <th></th>\n      <th>ID</th>\n      <th>Usuario</th>\n      <th>Fecha_tweet</th>\n      <th>geometry</th>\n      <th>fecha_hora_dt</th>\n    </tr>\n  </thead>\n  <tbody>\n    <tr>\n      <th>0</th>\n      <td>947618373680103424</td>\n      <td>LuisDarioGarcia</td>\n      <td>2018-01-01T00:00:00.000Z</td>\n      <td>POINT (-99.01702 19.43272)</td>\n      <td>2018-01-01 00:00:00+00:00</td>\n    </tr>\n    <tr>\n      <th>1</th>\n      <td>947618374309302272</td>\n      <td>_BlackBeauty12_</td>\n      <td>2018-01-01T00:00:00.000Z</td>\n      <td>POINT (-86.68074 32.57623)</td>\n      <td>2018-01-01 00:00:00+00:00</td>\n    </tr>\n    <tr>\n      <th>2</th>\n      <td>947618370790350848</td>\n      <td>Mia_soga</td>\n      <td>2018-01-01T00:00:00.000Z</td>\n      <td>POINT (-104.36338 19.12854)</td>\n      <td>2018-01-01 00:00:00+00:00</td>\n    </tr>\n    <tr>\n      <th>3</th>\n      <td>947618373239738369</td>\n      <td>johnpneedham</td>\n      <td>2018-01-01T00:00:00.000Z</td>\n      <td>POINT (-95.38700 30.05410)</td>\n      <td>2018-01-01 00:00:00+00:00</td>\n    </tr>\n    <tr>\n      <th>4</th>\n      <td>947618370958057472</td>\n      <td>basic_micah</td>\n      <td>2018-01-01T00:00:00.000Z</td>\n      <td>POINT (-87.20296 30.52106)</td>\n      <td>2018-01-01 00:00:00+00:00</td>\n    </tr>\n    <tr>\n      <th>...</th>\n      <td>...</td>\n      <td>...</td>\n      <td>...</td>\n      <td>...</td>\n      <td>...</td>\n    </tr>\n    <tr>\n      <th>8256469</th>\n      <td>958852390257479680</td>\n      <td>banditchinorich</td>\n      <td>2018-01-31T23:59:59.000Z</td>\n      <td>POINT (-95.44649 29.83850)</td>\n      <td>2018-01-31 23:59:59+00:00</td>\n    </tr>\n    <tr>\n      <th>8256470</th>\n      <td>958852391369039872</td>\n      <td>_ArlingtonTX</td>\n      <td>2018-01-31T23:59:59.000Z</td>\n      <td>POINT (-97.11000 32.74000)</td>\n      <td>2018-01-31 23:59:59+00:00</td>\n    </tr>\n    <tr>\n      <th>8256471</th>\n      <td>958852393768275969</td>\n      <td>tews2com</td>\n      <td>2018-01-31T23:59:59.000Z</td>\n      <td>POINT (-96.95222 32.42417)</td>\n      <td>2018-01-31 23:59:59+00:00</td>\n    </tr>\n    <tr>\n      <th>8256472</th>\n      <td>958852393176793090</td>\n      <td>juanmapregunta</td>\n      <td>2018-01-31T23:59:59.000Z</td>\n      <td>POINT (-102.55804 23.62542)</td>\n      <td>2018-01-31 23:59:59+00:00</td>\n    </tr>\n    <tr>\n      <th>8256473</th>\n      <td>958852392509984768</td>\n      <td>JulsMD</td>\n      <td>2018-01-31T23:59:59.000Z</td>\n      <td>POINT (-92.92780 17.99520)</td>\n      <td>2018-01-31 23:59:59+00:00</td>\n    </tr>\n  </tbody>\n</table>\n<p>8256474 rows × 5 columns</p>\n</div>"
     },
     "metadata": {},
     "execution_count": 8
    }
   ],
   "source": [
    "un_mes['fecha_hora_dt'] = pd.to_datetime(\n",
    "        un_mes['Fecha_tweet'],\n",
    "        format='%Y-%m-%d %H:%M:%S',\n",
    "        utc=False)\n",
    "# un_mes.fecha_hora_dt = un_mes.fecha_hora_dt.dt.tz_convert(\n",
    "#    'America/Mexico_City')\n",
    "un_mes"
   ]
  },
  {
   "source": [
    "Este es todo el preprocesamiento que se necesita para cada archivo de datos. Para leer todos los archivos y procesarlos eficientemente vamos a necesitar paralelizar la lectura, para eso necesitamos empaquetar el flujo en una función que tome como entrada el path a cada archivo"
   ],
   "cell_type": "markdown",
   "metadata": {}
  },
  {
   "source": [
    "def preprocesa_archivo(file_path):\n",
    "    un_mes = pd.read_csv(file_path)\n",
    "    distritos = gpd.read_file(\"../data/shapes/DistritosEODHogaresZMVM2017.shp\")\n",
    "    un_mes = un_mes.loc[:,['ID', 'Usuario', 'Fecha_tweet', 'Latitud', 'Longitud']]\n",
    "    un_mes = (gpd.GeoDataFrame(un_mes, geometry=gpd.points_from_xy                                          (un_mes.Longitud, un_mes.Latitud))\n",
    "            .drop(['Latitud', 'Longitud'], axis=1)\n",
    "            .set_crs(4326)\n",
    "            )\n",
    "    un_mes = (gpd.sjoin(un_mes, distritos.to_crs(4326))\n",
    "        .drop(['index_right', 'Descripcio'], axis=1)\n",
    "        )\n",
    "    un_mes['fecha_hora_dt'] = pd.to_datetime(\n",
    "        un_mes['Fecha_tweet'],\n",
    "        format='%Y-%m-%d %H:%M:%S',\n",
    "        utc=False)\n",
    "    return un_mes"
   ],
   "cell_type": "code",
   "metadata": {},
   "execution_count": 17,
   "outputs": []
  },
  {
   "cell_type": "code",
   "execution_count": 18,
   "metadata": {},
   "outputs": [],
   "source": [
    "un_mes = preprocesa_archivo(\"../data/enero2018.csv\")"
   ]
  },
  {
   "cell_type": "code",
   "execution_count": 19,
   "metadata": {},
   "outputs": [
    {
     "output_type": "execute_result",
     "data": {
      "text/plain": [
       "                     ID          Usuario               Fecha_tweet  \\\n",
       "0    947618373680103424  LuisDarioGarcia  2018-01-01T00:00:00.000Z   \n",
       "110  947618450163281921     venus_saiyan  2018-01-01T00:00:19.000Z   \n",
       "115  947618453179043840   survivorcancer  2018-01-01T00:00:19.000Z   \n",
       "197  947618513140768774  LuisDarioGarcia  2018-01-01T00:00:34.000Z   \n",
       "643  947618841403756546  LuisDarioGarcia  2018-01-01T00:01:52.000Z   \n",
       "\n",
       "                       geometry Distrito             fecha_hora_dt  \n",
       "0    POINT (-99.01702 19.43272)      173 2018-01-01 00:00:00+00:00  \n",
       "110  POINT (-99.01702 19.43272)      173 2018-01-01 00:00:19+00:00  \n",
       "115  POINT (-99.01702 19.43272)      173 2018-01-01 00:00:19+00:00  \n",
       "197  POINT (-99.01702 19.43272)      173 2018-01-01 00:00:34+00:00  \n",
       "643  POINT (-99.01702 19.43272)      173 2018-01-01 00:01:52+00:00  "
      ],
      "text/html": "<div>\n<style scoped>\n    .dataframe tbody tr th:only-of-type {\n        vertical-align: middle;\n    }\n\n    .dataframe tbody tr th {\n        vertical-align: top;\n    }\n\n    .dataframe thead th {\n        text-align: right;\n    }\n</style>\n<table border=\"1\" class=\"dataframe\">\n  <thead>\n    <tr style=\"text-align: right;\">\n      <th></th>\n      <th>ID</th>\n      <th>Usuario</th>\n      <th>Fecha_tweet</th>\n      <th>geometry</th>\n      <th>Distrito</th>\n      <th>fecha_hora_dt</th>\n    </tr>\n  </thead>\n  <tbody>\n    <tr>\n      <th>0</th>\n      <td>947618373680103424</td>\n      <td>LuisDarioGarcia</td>\n      <td>2018-01-01T00:00:00.000Z</td>\n      <td>POINT (-99.01702 19.43272)</td>\n      <td>173</td>\n      <td>2018-01-01 00:00:00+00:00</td>\n    </tr>\n    <tr>\n      <th>110</th>\n      <td>947618450163281921</td>\n      <td>venus_saiyan</td>\n      <td>2018-01-01T00:00:19.000Z</td>\n      <td>POINT (-99.01702 19.43272)</td>\n      <td>173</td>\n      <td>2018-01-01 00:00:19+00:00</td>\n    </tr>\n    <tr>\n      <th>115</th>\n      <td>947618453179043840</td>\n      <td>survivorcancer</td>\n      <td>2018-01-01T00:00:19.000Z</td>\n      <td>POINT (-99.01702 19.43272)</td>\n      <td>173</td>\n      <td>2018-01-01 00:00:19+00:00</td>\n    </tr>\n    <tr>\n      <th>197</th>\n      <td>947618513140768774</td>\n      <td>LuisDarioGarcia</td>\n      <td>2018-01-01T00:00:34.000Z</td>\n      <td>POINT (-99.01702 19.43272)</td>\n      <td>173</td>\n      <td>2018-01-01 00:00:34+00:00</td>\n    </tr>\n    <tr>\n      <th>643</th>\n      <td>947618841403756546</td>\n      <td>LuisDarioGarcia</td>\n      <td>2018-01-01T00:01:52.000Z</td>\n      <td>POINT (-99.01702 19.43272)</td>\n      <td>173</td>\n      <td>2018-01-01 00:01:52+00:00</td>\n    </tr>\n  </tbody>\n</table>\n</div>"
     },
     "metadata": {},
     "execution_count": 19
    }
   ],
   "source": [
    "un_mes.head()"
   ]
  },
  {
   "source": [
    "Ya tenemos la función que preprocesa cada archivo, ahora tenemos que sacar todos los archivos con datos"
   ],
   "cell_type": "markdown",
   "metadata": {}
  },
  {
   "cell_type": "code",
   "execution_count": 2,
   "metadata": {},
   "outputs": [
    {
     "output_type": "execute_result",
     "data": {
      "text/plain": [
       "['../data/nov_2018.csv',\n",
       " '../data/dic_2018.csv',\n",
       " '../data/may_2018.csv',\n",
       " '../data/sep_2018.csv',\n",
       " '../data/enero2018.csv',\n",
       " '../data/feb_2018.csv',\n",
       " '../data/jun_2018.csv',\n",
       " '../data/oct_2018.csv',\n",
       " '../data/ago_2018.csv',\n",
       " '../data/mar_2018.csv',\n",
       " '../data/jul_2018.csv',\n",
       " '../data/abr_2018.csv']"
      ]
     },
     "metadata": {},
     "execution_count": 2
    }
   ],
   "source": [
    "archivos = glob.glob(\"../data/*.csv\")\n",
    "archivos"
   ]
  },
  {
   "source": [
    "Ahora vamos a utilizar `multiprocess.pool` para iterar en paralelo sobre la lista "
   ],
   "cell_type": "markdown",
   "metadata": {}
  },
  {
   "cell_type": "code",
   "execution_count": 3,
   "metadata": {},
   "outputs": [],
   "source": [
    "a_pool = multiprocessing.Pool()\n",
    "result = a_pool.map(preprocesa_archivo, archivos)\n"
   ]
  },
  {
   "source": [
    "concatenamos los resulados y exportamos"
   ],
   "cell_type": "markdown",
   "metadata": {}
  },
  {
   "source": [
    "final = pd.concat(result, axis=0)\n",
    "final"
   ],
   "cell_type": "code",
   "metadata": {},
   "execution_count": 4,
   "outputs": [
    {
     "output_type": "execute_result",
     "data": {
      "text/plain": [
       "                          ID         Usuario               Fecha_tweet  \\\n",
       "2        1057784283908239360    marcojulio93  2018-11-01T00:00:00.000Z   \n",
       "1093     1057785120684498944      Pontigamex  2018-11-01T00:03:20.000Z   \n",
       "4358     1057787632682520577      dieghoista  2018-11-01T00:13:19.000Z   \n",
       "12227    1057793498768965632     XicopataXty  2018-11-01T00:36:37.000Z   \n",
       "14614    1057795207532609537     KIxtapaluca  2018-11-01T00:43:25.000Z   \n",
       "...                      ...             ...                       ...   \n",
       "6628440   988955668005773312     olaga_lidia  2018-04-25T01:39:39.000Z   \n",
       "6628690   988955854497042432     olaga_lidia  2018-04-25T01:40:24.000Z   \n",
       "8374195   991099908651454464      mercyrocks  2018-04-30T23:40:06.000Z   \n",
       "4031099   985360264496336896        Hemer_28  2018-04-15T03:32:48.000Z   \n",
       "4681607   986267866948341760  NoemiVazquezZa  2018-04-17T15:39:18.000Z   \n",
       "\n",
       "                           geometry Distrito             fecha_hora_dt  \n",
       "2        POINT (-98.79725 19.35936)      197 2018-11-01 00:00:00+00:00  \n",
       "1093     POINT (-98.79725 19.35936)      197 2018-11-01 00:03:20+00:00  \n",
       "4358     POINT (-98.79725 19.35936)      197 2018-11-01 00:13:19+00:00  \n",
       "12227    POINT (-98.79725 19.35936)      197 2018-11-01 00:36:37+00:00  \n",
       "14614    POINT (-98.79725 19.35936)      197 2018-11-01 00:43:25+00:00  \n",
       "...                             ...      ...                       ...  \n",
       "6628440  POINT (-99.06812 19.56454)      148 2018-04-25 01:39:39+00:00  \n",
       "6628690  POINT (-99.07111 19.56989)      148 2018-04-25 01:40:24+00:00  \n",
       "8374195  POINT (-99.06065 19.57597)      148 2018-04-30 23:40:06+00:00  \n",
       "4031099  POINT (-98.96482 19.44039)      187 2018-04-15 03:32:48+00:00  \n",
       "4681607  POINT (-98.94654 19.44539)      187 2018-04-17 15:39:18+00:00  \n",
       "\n",
       "[7637082 rows x 6 columns]"
      ],
      "text/html": "<div>\n<style scoped>\n    .dataframe tbody tr th:only-of-type {\n        vertical-align: middle;\n    }\n\n    .dataframe tbody tr th {\n        vertical-align: top;\n    }\n\n    .dataframe thead th {\n        text-align: right;\n    }\n</style>\n<table border=\"1\" class=\"dataframe\">\n  <thead>\n    <tr style=\"text-align: right;\">\n      <th></th>\n      <th>ID</th>\n      <th>Usuario</th>\n      <th>Fecha_tweet</th>\n      <th>geometry</th>\n      <th>Distrito</th>\n      <th>fecha_hora_dt</th>\n    </tr>\n  </thead>\n  <tbody>\n    <tr>\n      <th>2</th>\n      <td>1057784283908239360</td>\n      <td>marcojulio93</td>\n      <td>2018-11-01T00:00:00.000Z</td>\n      <td>POINT (-98.79725 19.35936)</td>\n      <td>197</td>\n      <td>2018-11-01 00:00:00+00:00</td>\n    </tr>\n    <tr>\n      <th>1093</th>\n      <td>1057785120684498944</td>\n      <td>Pontigamex</td>\n      <td>2018-11-01T00:03:20.000Z</td>\n      <td>POINT (-98.79725 19.35936)</td>\n      <td>197</td>\n      <td>2018-11-01 00:03:20+00:00</td>\n    </tr>\n    <tr>\n      <th>4358</th>\n      <td>1057787632682520577</td>\n      <td>dieghoista</td>\n      <td>2018-11-01T00:13:19.000Z</td>\n      <td>POINT (-98.79725 19.35936)</td>\n      <td>197</td>\n      <td>2018-11-01 00:13:19+00:00</td>\n    </tr>\n    <tr>\n      <th>12227</th>\n      <td>1057793498768965632</td>\n      <td>XicopataXty</td>\n      <td>2018-11-01T00:36:37.000Z</td>\n      <td>POINT (-98.79725 19.35936)</td>\n      <td>197</td>\n      <td>2018-11-01 00:36:37+00:00</td>\n    </tr>\n    <tr>\n      <th>14614</th>\n      <td>1057795207532609537</td>\n      <td>KIxtapaluca</td>\n      <td>2018-11-01T00:43:25.000Z</td>\n      <td>POINT (-98.79725 19.35936)</td>\n      <td>197</td>\n      <td>2018-11-01 00:43:25+00:00</td>\n    </tr>\n    <tr>\n      <th>...</th>\n      <td>...</td>\n      <td>...</td>\n      <td>...</td>\n      <td>...</td>\n      <td>...</td>\n      <td>...</td>\n    </tr>\n    <tr>\n      <th>6628440</th>\n      <td>988955668005773312</td>\n      <td>olaga_lidia</td>\n      <td>2018-04-25T01:39:39.000Z</td>\n      <td>POINT (-99.06812 19.56454)</td>\n      <td>148</td>\n      <td>2018-04-25 01:39:39+00:00</td>\n    </tr>\n    <tr>\n      <th>6628690</th>\n      <td>988955854497042432</td>\n      <td>olaga_lidia</td>\n      <td>2018-04-25T01:40:24.000Z</td>\n      <td>POINT (-99.07111 19.56989)</td>\n      <td>148</td>\n      <td>2018-04-25 01:40:24+00:00</td>\n    </tr>\n    <tr>\n      <th>8374195</th>\n      <td>991099908651454464</td>\n      <td>mercyrocks</td>\n      <td>2018-04-30T23:40:06.000Z</td>\n      <td>POINT (-99.06065 19.57597)</td>\n      <td>148</td>\n      <td>2018-04-30 23:40:06+00:00</td>\n    </tr>\n    <tr>\n      <th>4031099</th>\n      <td>985360264496336896</td>\n      <td>Hemer_28</td>\n      <td>2018-04-15T03:32:48.000Z</td>\n      <td>POINT (-98.96482 19.44039)</td>\n      <td>187</td>\n      <td>2018-04-15 03:32:48+00:00</td>\n    </tr>\n    <tr>\n      <th>4681607</th>\n      <td>986267866948341760</td>\n      <td>NoemiVazquezZa</td>\n      <td>2018-04-17T15:39:18.000Z</td>\n      <td>POINT (-98.94654 19.44539)</td>\n      <td>187</td>\n      <td>2018-04-17 15:39:18+00:00</td>\n    </tr>\n  </tbody>\n</table>\n<p>7637082 rows × 6 columns</p>\n</div>"
     },
     "metadata": {},
     "execution_count": 4
    }
   ]
  },
  {
   "source": [],
   "cell_type": "markdown",
   "metadata": {}
  },
  {
   "cell_type": "code",
   "execution_count": 5,
   "metadata": {},
   "outputs": [],
   "source": [
    "final.to_file(\"../output/tuits_2018.gpkg\", layer='tuits', driver=\"GPKG\")"
   ]
  },
  {
   "cell_type": "code",
   "execution_count": null,
   "metadata": {},
   "outputs": [],
   "source": []
  }
 ]
}